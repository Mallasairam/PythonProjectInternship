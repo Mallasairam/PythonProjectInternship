{
 "cells": [
  {
   "cell_type": "code",
   "execution_count": 4,
   "id": "28d24c4e",
   "metadata": {},
   "outputs": [
    {
     "name": "stdout",
     "output_type": "stream",
     "text": [
      "Weather data saved in weather_data.csv\n"
     ]
    }
   ],
   "source": [
    "import requests\n",
    "from bs4 import BeautifulSoup\n",
    "import csv\n",
    "url = 'https://mausam.imd.gov.in/'\n",
    "response = requests.get(url)\n",
    "if response.status_code == 200:\n",
    "    soup = BeautifulSoup(response.text, 'html.parser')\n",
    "    temperature = soup.find('span', class_='temperature')\n",
    "    humidity = soup.find('span', class_='humidity')\n",
    "    weather_data = [temperature, humidity]    \n",
    "    csv_filename = 'weather_data.csv'    \n",
    "    with open(csv_filename, 'w', newline='') as csv_file:\n",
    "        csv_writer = csv.writer(csv_file)\n",
    "        csv_writer.writerow(['Temperature (°C)', 'Humidity (%)'])\n",
    "        csv_writer.writerow(weather_data)\n",
    "    \n",
    "    print(f\"Weather data saved in {csv_filename}\")\n",
    "else:\n",
    "    print(\"Failed to retrieve data from the website.\")"
   ]
  },
  {
   "cell_type": "code",
   "execution_count": 1,
   "id": "09a4751b",
   "metadata": {},
   "outputs": [
    {
     "name": "stdout",
     "output_type": "stream",
     "text": [
      "Enter your name : malla sai ram\n",
      "Welcome to the Number Guessing Game! malla sai ram\n",
      "Guess the secret number between 1 and 100. You have 5 attempts.\n",
      "Enter your guess: 45\n",
      "Try a lower number.\n",
      "Enter your guess: 23\n",
      "Try a higher number.\n",
      "Enter your guess: 34\n",
      "Try a lower number.\n",
      "Enter your guess: 31\n",
      "Try a lower number.\n",
      "Enter your guess: 28\n",
      "Try a higher number.\n",
      "Sorry, you've used all your attempts. The secret number was 29\n",
      "Thanks for playing!\n"
     ]
    }
   ],
   "source": [
    "import random\n",
    "secret_number = random.randint(1, 100)\n",
    "max_attempts = 5\n",
    "attempts = 0\n",
    "name=input(\"Enter your name : \")\n",
    "print(\"Welcome to the Number Guessing Game!\",name)\n",
    "print(\"Guess the secret number between 1 and 100. You have\",max_attempts,\"attempts.\")\n",
    "while attempts < max_attempts:\n",
    "    try:\n",
    "        guess = int(input(\"Enter your guess: \"))\n",
    "        attempts += 1\n",
    "        if guess == secret_number:\n",
    "            print(\"Congratulations! You guessed the secret number\",secret_number,\"in\",attempts,\"attempts.\")\n",
    "            break\n",
    "        elif guess < secret_number:\n",
    "            print(\"Try a higher number.\")\n",
    "        else:\n",
    "            print(\"Try a lower number.\")\n",
    "        if attempts == max_attempts:\n",
    "            print(\"Sorry, you've used all your attempts. The secret number was\",secret_number)\n",
    "    \n",
    "    except ValueError:\n",
    "        print(\"Invalid input. Please enter a valid number.\")\n",
    "\n",
    "print(\"Thanks for playing!\")"
   ]
  },
  {
   "cell_type": "code",
   "execution_count": null,
   "id": "879eb584",
   "metadata": {},
   "outputs": [],
   "source": []
  }
 ],
 "metadata": {
  "kernelspec": {
   "display_name": "Python 3 (ipykernel)",
   "language": "python",
   "name": "python3"
  },
  "language_info": {
   "codemirror_mode": {
    "name": "ipython",
    "version": 3
   },
   "file_extension": ".py",
   "mimetype": "text/x-python",
   "name": "python",
   "nbconvert_exporter": "python",
   "pygments_lexer": "ipython3",
   "version": "3.9.13"
  }
 },
 "nbformat": 4,
 "nbformat_minor": 5
}
